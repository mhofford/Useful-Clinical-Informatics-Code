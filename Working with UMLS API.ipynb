{
 "cells": [
  {
   "cell_type": "code",
   "execution_count": null,
   "metadata": {},
   "outputs": [],
   "source": [
    " def get_tgt():\n",
    "    login_URL = 'https://utslogin.nlm.nih.gov'\n",
    "    Auth_end = '/cas/v1/tickets/'\n",
    "    headers = {\"Content-type\": \"application/x-www-form-urlencoded\", \"Accept\": \"text/plain\", \"User-Agent\":\"python\" }\n",
    "    params = {'apikey': <Your API Key HERE>}\n",
    "    r = requests.post(login_URL + Auth_end, data= params , headers = headers)\n",
    "    response = fromstring(r.text)\n",
    "    ticket_gt = response.xpath('//form/@action')[0]\n",
    "    return ticket_gt"
   ]
  },
  {
   "cell_type": "code",
   "execution_count": null,
   "metadata": {},
   "outputs": [],
   "source": [
    "tgt = get_tgt()#this step only need to be done onc"
   ]
  },
  {
   "cell_type": "code",
   "execution_count": null,
   "metadata": {},
   "outputs": [],
   "source": [
    "def get_tick():\n",
    "    params = {'service': 'http://umlsks.nlm.nih.gov'}\n",
    "    headers = {\"Content-type\": \"application/x-www-form-urlencoded\", \"Accept\": \"text/plain\", \"User-Agent\":\"python\" }\n",
    "    r = requests.post(tgt,data=params,headers=headers)\n",
    "    return r.text"
   ]
  },
  {
   "cell_type": "code",
   "execution_count": null,
   "metadata": {},
   "outputs": [],
   "source": [
    "def search_UMLS(string):\n",
    "    service_tick = get_tick()\n",
    "    search_url =  'https://uts-ws.nlm.nih.gov/rest/search/current?string='\n",
    "    resp = requests.get(search_url+string+'&ticket='+service_tick)\n",
    "    return resp.json()['result']['results']"
   ]
  },
  {
   "cell_type": "code",
   "execution_count": null,
   "metadata": {},
   "outputs": [],
   "source": []
  }
 ],
 "metadata": {
  "kernelspec": {
   "display_name": "Python 3",
   "language": "python",
   "name": "python3"
  },
  "language_info": {
   "codemirror_mode": {
    "name": "ipython",
    "version": 3
   },
   "file_extension": ".py",
   "mimetype": "text/x-python",
   "name": "python",
   "nbconvert_exporter": "python",
   "pygments_lexer": "ipython3",
   "version": "3.7.6"
  }
 },
 "nbformat": 4,
 "nbformat_minor": 4
}
