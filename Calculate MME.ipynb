{
 "cells": [
  {
   "cell_type": "code",
   "execution_count": null,
   "metadata": {},
   "outputs": [],
   "source": [
    "drug_key = pd.read_excel(r\"path\")"
   ]
  },
  {
   "cell_type": "code",
   "execution_count": null,
   "metadata": {},
   "outputs": [],
   "source": [
    "# Set Methadone values for MME per mg of methadone\n",
    "meth = list(df.loc[((df['MEDICATION_NAME'].str.contains('methadone',na=False, case=False))==True),].index)\n",
    "for value in meth:\n",
    "    if  df.loc[value,'dose/day'] < 21:\n",
    "        df.loc[value,'MME/Dose/Unit'] = 4\n",
    "    elif df.loc[value,'dose/day'] < 41:\n",
    "        df.loc[value,'MME/Dose/Unit'] = 8\n",
    "    elif df.loc[value,'dose/day'] < 61:\n",
    "        df.loc[value,'MME/Dose/Unit'] = 10\n",
    "    else:\n",
    "        df.loc[value,'MME/Dose/Unit'] = 12\n"
   ]
  },
  {
   "cell_type": "code",
   "execution_count": null,
   "metadata": {},
   "outputs": [],
   "source": [
    "drug_list = drug_key.Drug.unique()"
   ]
  },
  {
   "cell_type": "code",
   "execution_count": null,
   "metadata": {},
   "outputs": [],
   "source": [
    "#Get MME per unit drug from the drug_key table for everything but methadone which we have already taken care of. \n",
    "for drug in drug_list:\n",
    "        df.loc[((df['MEDICATION_NAME'].str.contains(drug,na=False, case=False))==True), 'MME/Dose/Unit'] = float(drug_key[drug_key['Drug'] == drug ]['MME/Dose per MDCALC'])\n"
   ]
  },
  {
   "cell_type": "code",
   "execution_count": null,
   "metadata": {},
   "outputs": [],
   "source": []
  },
  {
   "cell_type": "code",
   "execution_count": null,
   "metadata": {},
   "outputs": [],
   "source": []
  }
 ],
 "metadata": {
  "kernelspec": {
   "display_name": "Python 3",
   "language": "python",
   "name": "python3"
  },
  "language_info": {
   "codemirror_mode": {
    "name": "ipython",
    "version": 3
   },
   "file_extension": ".py",
   "mimetype": "text/x-python",
   "name": "python",
   "nbconvert_exporter": "python",
   "pygments_lexer": "ipython3",
   "version": "3.7.6"
  }
 },
 "nbformat": 4,
 "nbformat_minor": 4
}
